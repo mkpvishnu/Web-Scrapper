{
 "cells": [
  {
   "cell_type": "code",
   "execution_count": 279,
   "id": "cea2e593",
   "metadata": {},
   "outputs": [
    {
     "ename": "ModuleNotFoundError",
     "evalue": "No module named 'java'",
     "output_type": "error",
     "traceback": [
      "\u001b[1;31m---------------------------------------------------------------------------\u001b[0m",
      "\u001b[1;31mModuleNotFoundError\u001b[0m                       Traceback (most recent call last)",
      "\u001b[1;32m<ipython-input-279-88c05a4d92da>\u001b[0m in \u001b[0;36m<module>\u001b[1;34m\u001b[0m\n\u001b[0;32m      9\u001b[0m \u001b[1;32mimport\u001b[0m \u001b[0mtime\u001b[0m\u001b[1;33m\u001b[0m\u001b[1;33m\u001b[0m\u001b[0m\n\u001b[0;32m     10\u001b[0m \u001b[1;32mimport\u001b[0m \u001b[0mpandas\u001b[0m \u001b[1;32mas\u001b[0m \u001b[0mpd\u001b[0m\u001b[1;33m\u001b[0m\u001b[1;33m\u001b[0m\u001b[0m\n\u001b[1;32m---> 11\u001b[1;33m \u001b[1;32mimport\u001b[0m \u001b[0mjava\u001b[0m\u001b[1;33m.\u001b[0m\u001b[0mutil\u001b[0m\u001b[1;33m.\u001b[0m\u001b[0mconcurrent\u001b[0m\u001b[1;33m.\u001b[0m\u001b[0mTimeUnit\u001b[0m\u001b[1;33m;\u001b[0m\u001b[1;33m\u001b[0m\u001b[1;33m\u001b[0m\u001b[0m\n\u001b[0m",
      "\u001b[1;31mModuleNotFoundError\u001b[0m: No module named 'java'"
     ]
    }
   ],
   "source": [
    "#packages\n",
    "from selenium import webdriver\n",
    "from selenium.webdriver.common.keys import Keys\n",
    "from selenium.webdriver.common.by import By\n",
    "from selenium.webdriver.chrome.options import Options\n",
    "from selenium.webdriver.support.ui import WebDriverWait\n",
    "from selenium.webdriver.support import expected_conditions as EC\n",
    "from selenium.common.exceptions import TimeoutException, WebDriverException\n",
    "import time\n",
    "import pandas as pd\n",
    "import java.util.concurrent.TimeUnit;"
   ]
  },
  {
   "cell_type": "code",
   "execution_count": 64,
   "id": "61988b58",
   "metadata": {},
   "outputs": [],
   "source": [
    "#websites for scraping\n",
    "website_1 = \"https://www.geekbuying.com/search?keyword=laptop\"\n",
    "website_2 = \"http://automationpractice.com/index.php\"\n",
    "website_3 = \"https://ieeexplore.ieee.org/search/searchresult.jsp?newsearch=true&queryText=melanoma&highlight=true&returnFacets=ALL&returnType=SEARCH&matchPubs=true&rowsPerPage=100&pageNumber=1\""
   ]
  },
  {
   "cell_type": "code",
   "execution_count": 277,
   "id": "b1062e1c",
   "metadata": {},
   "outputs": [
    {
     "name": "stderr",
     "output_type": "stream",
     "text": [
      "<ipython-input-277-c81109296975>:2: DeprecationWarning: executable_path has been deprecated, please pass in a Service object\n",
      "  driver = webdriver.Chrome('C:\\webdrivers\\chromedriver.exe')\n"
     ]
    }
   ],
   "source": [
    "#initialize chrome driver\n",
    "driver = webdriver.Chrome('C:\\webdrivers\\chromedriver.exe')\n",
    "driver.get(website_3)\n",
    "driver.maximize_window()"
   ]
  },
  {
   "cell_type": "code",
   "execution_count": 282,
   "id": "8733f160",
   "metadata": {},
   "outputs": [
    {
     "name": "stderr",
     "output_type": "stream",
     "text": [
      "<ipython-input-282-4422b00c5ff1>:1: DeprecationWarning: find_elements_by_xpath is deprecated. Please use find_elements(by=By.XPATH, value=xpath) instead\n",
      "  year_list=driver.find_elements_by_xpath('//div[@class=\"List-results-items\"]/xpl-results-item/div[1]/div[1]/div[2]/div[1]/div[1]/span[1]')\n",
      "<ipython-input-282-4422b00c5ff1>:2: DeprecationWarning: find_elements_by_xpath is deprecated. Please use find_elements(by=By.XPATH, value=xpath) instead\n",
      "  type_list = driver.find_elements_by_xpath('//div[@class=\"List-results-items\"]/xpl-results-item/div[1]/div[1]/div[2]/div[1]/div[1]/span[3]')\n",
      "<ipython-input-282-4422b00c5ff1>:3: DeprecationWarning: find_elements_by_xpath is deprecated. Please use find_elements(by=By.XPATH, value=xpath) instead\n",
      "  name_list = driver.find_elements_by_xpath('//h2[@class=\"text-md-md-lh\"]')\n",
      "<ipython-input-282-4422b00c5ff1>:4: DeprecationWarning: find_elements_by_xpath is deprecated. Please use find_elements(by=By.XPATH, value=xpath) instead\n",
      "  abstract_list = driver.find_elements_by_xpath('//div[@class=\"List-results-items\"]/xpl-results-item/div[1]/div[2]/div/span')\n",
      "<ipython-input-282-4422b00c5ff1>:5: DeprecationWarning: find_elements_by_xpath is deprecated. Please use find_elements(by=By.XPATH, value=xpath) instead\n",
      "  authors_list = driver.find_elements_by_xpath('//div[@class=\"List-results-items\"]/xpl-results-item/div[1]/div[1]/div[2]/xpl-authors-name-list/p')\n",
      "<ipython-input-282-4422b00c5ff1>:6: DeprecationWarning: find_elements_by_xpath is deprecated. Please use find_elements(by=By.XPATH, value=xpath) instead\n",
      "  cite_list = driver.find_elements_by_xpath('//div[@class=\"description text-base-md-lh\"]/div[2]')\n"
     ]
    }
   ],
   "source": [
    "\n",
    "        year_list=driver.find_elements_by_xpath('//div[@class=\"List-results-items\"]/xpl-results-item/div[1]/div[1]/div[2]/div[1]/div[1]/span[1]')\n",
    "        type_list = driver.find_elements_by_xpath('//div[@class=\"List-results-items\"]/xpl-results-item/div[1]/div[1]/div[2]/div[1]/div[1]/span[3]')\n",
    "        name_list = driver.find_elements_by_xpath('//h2[@class=\"text-md-md-lh\"]')\n",
    "        abstract_list = driver.find_elements_by_xpath('//div[@class=\"List-results-items\"]/xpl-results-item/div[1]/div[2]/div/span')\n",
    "        authors_list = driver.find_elements_by_xpath('//div[@class=\"List-results-items\"]/xpl-results-item/div[1]/div[1]/div[2]/xpl-authors-name-list/p')\n",
    "        cite_list = driver.find_elements_by_xpath('//div[@class=\"description text-base-md-lh\"]/div[2]')"
   ]
  },
  {
   "cell_type": "code",
   "execution_count": 260,
   "id": "343c1cec",
   "metadata": {},
   "outputs": [],
   "source": [
    "example = pd.DataFrame(columns=['Name', 'Year', 'Type','Authors', 'Citations'])"
   ]
  },
  {
   "cell_type": "code",
   "execution_count": 274,
   "id": "532459bd",
   "metadata": {},
   "outputs": [
    {
     "data": {
      "text/plain": [
       "3"
      ]
     },
     "execution_count": 274,
     "metadata": {},
     "output_type": "execute_result"
    }
   ],
   "source": [
    "len(year_list)"
   ]
  },
  {
   "cell_type": "code",
   "execution_count": 261,
   "id": "961c2223",
   "metadata": {},
   "outputs": [
    {
     "data": {
      "text/html": [
       "<div>\n",
       "<style scoped>\n",
       "    .dataframe tbody tr th:only-of-type {\n",
       "        vertical-align: middle;\n",
       "    }\n",
       "\n",
       "    .dataframe tbody tr th {\n",
       "        vertical-align: top;\n",
       "    }\n",
       "\n",
       "    .dataframe thead th {\n",
       "        text-align: right;\n",
       "    }\n",
       "</style>\n",
       "<table border=\"1\" class=\"dataframe\">\n",
       "  <thead>\n",
       "    <tr style=\"text-align: right;\">\n",
       "      <th></th>\n",
       "      <th>Name</th>\n",
       "      <th>Year</th>\n",
       "      <th>Type</th>\n",
       "      <th>Authors</th>\n",
       "      <th>Citations</th>\n",
       "    </tr>\n",
       "  </thead>\n",
       "  <tbody>\n",
       "  </tbody>\n",
       "</table>\n",
       "</div>"
      ],
      "text/plain": [
       "Empty DataFrame\n",
       "Columns: [Name, Year, Type, Authors, Citations]\n",
       "Index: []"
      ]
     },
     "execution_count": 261,
     "metadata": {},
     "output_type": "execute_result"
    }
   ],
   "source": [
    "example"
   ]
  },
  {
   "cell_type": "code",
   "execution_count": 262,
   "id": "53e147d9",
   "metadata": {},
   "outputs": [],
   "source": [
    "name_list1=[]\n",
    "year_list1 = []\n",
    "type_list1 = []\n",
    "authors_list1 = []\n",
    "cite_list1= []\n",
    "z = '0'"
   ]
  },
  {
   "cell_type": "code",
   "execution_count": 263,
   "id": "a83213d6",
   "metadata": {},
   "outputs": [
    {
     "data": {
      "text/plain": [
       "'0'"
      ]
     },
     "execution_count": 263,
     "metadata": {},
     "output_type": "execute_result"
    }
   ],
   "source": [
    "z"
   ]
  },
  {
   "cell_type": "code",
   "execution_count": 267,
   "id": "6b316a66",
   "metadata": {},
   "outputs": [],
   "source": [
    "for a in year_list:\n",
    "    year_list1.append(a.text)\n",
    "for a in name_list:\n",
    "    name_list1.append(a.text)\n",
    "for a in type_list:\n",
    "    type_list1.append(a.text)\n",
    "for a in authors_list:\n",
    "    authors_list1.append(a.text)\n",
    "for a in cite_list:\n",
    "    if(a.text == ''):\n",
    "        cite_list1.append(z)\n",
    "    else:\n",
    "        cite_list1.append(a.text[1])"
   ]
  },
  {
   "cell_type": "code",
   "execution_count": 266,
   "id": "d0a72cd1",
   "metadata": {},
   "outputs": [
    {
     "data": {
      "text/plain": [
       "0"
      ]
     },
     "execution_count": 266,
     "metadata": {},
     "output_type": "execute_result"
    }
   ],
   "source": [
    "len(cite_list1)"
   ]
  },
  {
   "cell_type": "code",
   "execution_count": 214,
   "id": "5ed44dd3",
   "metadata": {},
   "outputs": [],
   "source": [
    "dent_dic = {'Name': name_list1, 'Year' : year_list1, 'Type' : type_list1, 'Authors' : authors_list1, 'Citations' : cite_list1}"
   ]
  },
  {
   "cell_type": "code",
   "execution_count": 215,
   "id": "a21c0f68",
   "metadata": {},
   "outputs": [],
   "source": [
    "df = pd.DataFrame.from_dict (dent_dic)"
   ]
  },
  {
   "cell_type": "code",
   "execution_count": 216,
   "id": "7f0ef14e",
   "metadata": {},
   "outputs": [
    {
     "data": {
      "text/html": [
       "<div>\n",
       "<style scoped>\n",
       "    .dataframe tbody tr th:only-of-type {\n",
       "        vertical-align: middle;\n",
       "    }\n",
       "\n",
       "    .dataframe tbody tr th {\n",
       "        vertical-align: top;\n",
       "    }\n",
       "\n",
       "    .dataframe thead th {\n",
       "        text-align: right;\n",
       "    }\n",
       "</style>\n",
       "<table border=\"1\" class=\"dataframe\">\n",
       "  <thead>\n",
       "    <tr style=\"text-align: right;\">\n",
       "      <th></th>\n",
       "      <th>Name</th>\n",
       "      <th>Year</th>\n",
       "      <th>Type</th>\n",
       "      <th>Authors</th>\n",
       "      <th>Citations</th>\n",
       "    </tr>\n",
       "  </thead>\n",
       "  <tbody>\n",
       "    <tr>\n",
       "      <th>0</th>\n",
       "      <td>Early Melanoma Diagnosis With Sequential Dermo...</td>\n",
       "      <td>Year: 2022</td>\n",
       "      <td>| Journal Article</td>\n",
       "      <td>Zhen Yu;Jennifer Nguyen;Toan D. Nguyen;John Ke...</td>\n",
       "      <td>0</td>\n",
       "    </tr>\n",
       "    <tr>\n",
       "      <th>1</th>\n",
       "      <td>Multi-level Attentive Skin Lesion Learning for...</td>\n",
       "      <td>Year: 2021</td>\n",
       "      <td>| Publisher: IEEE</td>\n",
       "      <td>Xiaohong Wang;Weimin Huang;Zhongkang Lu;Su Huang</td>\n",
       "      <td>0</td>\n",
       "    </tr>\n",
       "    <tr>\n",
       "      <th>2</th>\n",
       "      <td>Detection of Potential Skin Cancer Lentigo Mal...</td>\n",
       "      <td>Year: 2019</td>\n",
       "      <td>| Publisher: IEEE</td>\n",
       "      <td>Herfi Fani Martiano;Tito Waluyo Purboyo;Casi S...</td>\n",
       "      <td>0</td>\n",
       "    </tr>\n",
       "    <tr>\n",
       "      <th>3</th>\n",
       "      <td>H-scan imaging and quantitative measurement to...</td>\n",
       "      <td>Year: 2021</td>\n",
       "      <td>| Publisher: IEEE</td>\n",
       "      <td>Jihye Baek;Shuyang S. Qin;Peter A. Prieto;Kevi...</td>\n",
       "      <td>0</td>\n",
       "    </tr>\n",
       "    <tr>\n",
       "      <th>4</th>\n",
       "      <td>Convolutional Neural Network Algorithm with Pa...</td>\n",
       "      <td>Year: 2018</td>\n",
       "      <td>| Publisher: IEEE</td>\n",
       "      <td>Abdulaziz Namozov;Young Im Cho</td>\n",
       "      <td>Cited by: Papers (7)</td>\n",
       "    </tr>\n",
       "    <tr>\n",
       "      <th>...</th>\n",
       "      <td>...</td>\n",
       "      <td>...</td>\n",
       "      <td>...</td>\n",
       "      <td>...</td>\n",
       "      <td>...</td>\n",
       "    </tr>\n",
       "    <tr>\n",
       "      <th>95</th>\n",
       "      <td>Seven-Point Checklist with Convolutional Neura...</td>\n",
       "      <td>Year: 2019</td>\n",
       "      <td>| Publisher: IEEE</td>\n",
       "      <td>Saeed Alzahrani;Waleed Al-Nuaimy;Baidaa Al-Bander</td>\n",
       "      <td>Cited by: Papers (3)</td>\n",
       "    </tr>\n",
       "    <tr>\n",
       "      <th>96</th>\n",
       "      <td>Melanoma Classification Using Texture and Wave...</td>\n",
       "      <td>Year: 2019</td>\n",
       "      <td>| Publisher: IEEE</td>\n",
       "      <td>Akhiyar Waladi;Nanda Maulina Firdaus;Aniati Mu...</td>\n",
       "      <td>0</td>\n",
       "    </tr>\n",
       "    <tr>\n",
       "      <th>97</th>\n",
       "      <td>Automatic Diagnosis of Melanoma Using Log-Line...</td>\n",
       "      <td>Year: 2017</td>\n",
       "      <td>| Publisher: IEEE</td>\n",
       "      <td>Arezoo Zakeri;Sina Soukhtesaraie</td>\n",
       "      <td>Cited by: Papers (1)</td>\n",
       "    </tr>\n",
       "    <tr>\n",
       "      <th>98</th>\n",
       "      <td>Segmentation and Classification of Melanoma an...</td>\n",
       "      <td>Year: 2020</td>\n",
       "      <td>| Publisher: IEEE</td>\n",
       "      <td>Mike van Zon;Nikolas Stathonikos;Willeke A.M. ...</td>\n",
       "      <td>Cited by: Papers (3)</td>\n",
       "    </tr>\n",
       "    <tr>\n",
       "      <th>99</th>\n",
       "      <td>Melanoma Skin Cancer Detection Based on ABCD Rule</td>\n",
       "      <td>Year: 2019</td>\n",
       "      <td>| Publisher: IEEE</td>\n",
       "      <td>Nabeel F. Lattoofi;Israa F. Al-sharuee;Mohamme...</td>\n",
       "      <td>Cited by: Papers (4)</td>\n",
       "    </tr>\n",
       "  </tbody>\n",
       "</table>\n",
       "<p>100 rows × 5 columns</p>\n",
       "</div>"
      ],
      "text/plain": [
       "                                                 Name        Year  \\\n",
       "0   Early Melanoma Diagnosis With Sequential Dermo...  Year: 2022   \n",
       "1   Multi-level Attentive Skin Lesion Learning for...  Year: 2021   \n",
       "2   Detection of Potential Skin Cancer Lentigo Mal...  Year: 2019   \n",
       "3   H-scan imaging and quantitative measurement to...  Year: 2021   \n",
       "4   Convolutional Neural Network Algorithm with Pa...  Year: 2018   \n",
       "..                                                ...         ...   \n",
       "95  Seven-Point Checklist with Convolutional Neura...  Year: 2019   \n",
       "96  Melanoma Classification Using Texture and Wave...  Year: 2019   \n",
       "97  Automatic Diagnosis of Melanoma Using Log-Line...  Year: 2017   \n",
       "98  Segmentation and Classification of Melanoma an...  Year: 2020   \n",
       "99  Melanoma Skin Cancer Detection Based on ABCD Rule  Year: 2019   \n",
       "\n",
       "                 Type                                            Authors  \\\n",
       "0   | Journal Article  Zhen Yu;Jennifer Nguyen;Toan D. Nguyen;John Ke...   \n",
       "1   | Publisher: IEEE   Xiaohong Wang;Weimin Huang;Zhongkang Lu;Su Huang   \n",
       "2   | Publisher: IEEE  Herfi Fani Martiano;Tito Waluyo Purboyo;Casi S...   \n",
       "3   | Publisher: IEEE  Jihye Baek;Shuyang S. Qin;Peter A. Prieto;Kevi...   \n",
       "4   | Publisher: IEEE                     Abdulaziz Namozov;Young Im Cho   \n",
       "..                ...                                                ...   \n",
       "95  | Publisher: IEEE  Saeed Alzahrani;Waleed Al-Nuaimy;Baidaa Al-Bander   \n",
       "96  | Publisher: IEEE  Akhiyar Waladi;Nanda Maulina Firdaus;Aniati Mu...   \n",
       "97  | Publisher: IEEE                   Arezoo Zakeri;Sina Soukhtesaraie   \n",
       "98  | Publisher: IEEE  Mike van Zon;Nikolas Stathonikos;Willeke A.M. ...   \n",
       "99  | Publisher: IEEE  Nabeel F. Lattoofi;Israa F. Al-sharuee;Mohamme...   \n",
       "\n",
       "               Citations  \n",
       "0                      0  \n",
       "1                      0  \n",
       "2                      0  \n",
       "3                      0  \n",
       "4   Cited by: Papers (7)  \n",
       "..                   ...  \n",
       "95  Cited by: Papers (3)  \n",
       "96                     0  \n",
       "97  Cited by: Papers (1)  \n",
       "98  Cited by: Papers (3)  \n",
       "99  Cited by: Papers (4)  \n",
       "\n",
       "[100 rows x 5 columns]"
      ]
     },
     "execution_count": 216,
     "metadata": {},
     "output_type": "execute_result"
    }
   ],
   "source": [
    "df"
   ]
  },
  {
   "cell_type": "code",
   "execution_count": 217,
   "id": "1d9d7b2c",
   "metadata": {},
   "outputs": [],
   "source": [
    "df['Year'] = df['Year'].apply(lambda x: x.replace('Year: ', ''))"
   ]
  },
  {
   "cell_type": "code",
   "execution_count": 218,
   "id": "350a9959",
   "metadata": {},
   "outputs": [],
   "source": [
    "df['Type'] = df['Type'].apply(lambda x: x.replace('| Publisher: ', ''))"
   ]
  },
  {
   "cell_type": "code",
   "execution_count": 219,
   "id": "31344d56",
   "metadata": {},
   "outputs": [],
   "source": [
    "df['Type'] = df['Type'].apply(lambda x: x.replace('| ', ''))"
   ]
  },
  {
   "cell_type": "code",
   "execution_count": 220,
   "id": "b7d7d4c9",
   "metadata": {},
   "outputs": [],
   "source": [
    "df['Authors'] = df['Authors'].apply(lambda x: x.replace(';', ','))"
   ]
  },
  {
   "cell_type": "code",
   "execution_count": 221,
   "id": "26f9bf18",
   "metadata": {},
   "outputs": [],
   "source": [
    "df['Citations'] = df['Citations'].apply(lambda x: x.replace('Cited by: Papers ', ''))"
   ]
  },
  {
   "cell_type": "code",
   "execution_count": 226,
   "id": "1d4c80bb",
   "metadata": {},
   "outputs": [],
   "source": [
    "df['Citations'] = df['Citations'].apply(lambda x: x.replace('(', ''))"
   ]
  },
  {
   "cell_type": "code",
   "execution_count": 227,
   "id": "2123923e",
   "metadata": {},
   "outputs": [],
   "source": [
    "df['Citations'] = df['Citations'].apply(lambda x: x.replace(')', ''))"
   ]
  },
  {
   "cell_type": "code",
   "execution_count": 240,
   "id": "19e6d0de",
   "metadata": {},
   "outputs": [],
   "source": [
    "df['Citations'] = df['Citations'].apply(lambda x: x.replace(' | Patents ', ''))"
   ]
  },
  {
   "cell_type": "code",
   "execution_count": 241,
   "id": "32880d47",
   "metadata": {},
   "outputs": [
    {
     "data": {
      "text/html": [
       "<div>\n",
       "<style scoped>\n",
       "    .dataframe tbody tr th:only-of-type {\n",
       "        vertical-align: middle;\n",
       "    }\n",
       "\n",
       "    .dataframe tbody tr th {\n",
       "        vertical-align: top;\n",
       "    }\n",
       "\n",
       "    .dataframe thead th {\n",
       "        text-align: right;\n",
       "    }\n",
       "</style>\n",
       "<table border=\"1\" class=\"dataframe\">\n",
       "  <thead>\n",
       "    <tr style=\"text-align: right;\">\n",
       "      <th></th>\n",
       "      <th>Name</th>\n",
       "      <th>Year</th>\n",
       "      <th>Type</th>\n",
       "      <th>Authors</th>\n",
       "      <th>Citations</th>\n",
       "    </tr>\n",
       "  </thead>\n",
       "  <tbody>\n",
       "    <tr>\n",
       "      <th>0</th>\n",
       "      <td>Early Melanoma Diagnosis With Sequential Dermo...</td>\n",
       "      <td>2022</td>\n",
       "      <td>Journal Article</td>\n",
       "      <td>Zhen Yu,Jennifer Nguyen,Toan D. Nguyen,John Ke...</td>\n",
       "      <td>0</td>\n",
       "    </tr>\n",
       "    <tr>\n",
       "      <th>1</th>\n",
       "      <td>Multi-level Attentive Skin Lesion Learning for...</td>\n",
       "      <td>2021</td>\n",
       "      <td>IEEE</td>\n",
       "      <td>Xiaohong Wang,Weimin Huang,Zhongkang Lu,Su Huang</td>\n",
       "      <td>0</td>\n",
       "    </tr>\n",
       "    <tr>\n",
       "      <th>2</th>\n",
       "      <td>Detection of Potential Skin Cancer Lentigo Mal...</td>\n",
       "      <td>2019</td>\n",
       "      <td>IEEE</td>\n",
       "      <td>Herfi Fani Martiano,Tito Waluyo Purboyo,Casi S...</td>\n",
       "      <td>0</td>\n",
       "    </tr>\n",
       "    <tr>\n",
       "      <th>3</th>\n",
       "      <td>H-scan imaging and quantitative measurement to...</td>\n",
       "      <td>2021</td>\n",
       "      <td>IEEE</td>\n",
       "      <td>Jihye Baek,Shuyang S. Qin,Peter A. Prieto,Kevi...</td>\n",
       "      <td>0</td>\n",
       "    </tr>\n",
       "    <tr>\n",
       "      <th>4</th>\n",
       "      <td>Convolutional Neural Network Algorithm with Pa...</td>\n",
       "      <td>2018</td>\n",
       "      <td>IEEE</td>\n",
       "      <td>Abdulaziz Namozov,Young Im Cho</td>\n",
       "      <td>7</td>\n",
       "    </tr>\n",
       "    <tr>\n",
       "      <th>...</th>\n",
       "      <td>...</td>\n",
       "      <td>...</td>\n",
       "      <td>...</td>\n",
       "      <td>...</td>\n",
       "      <td>...</td>\n",
       "    </tr>\n",
       "    <tr>\n",
       "      <th>95</th>\n",
       "      <td>Seven-Point Checklist with Convolutional Neura...</td>\n",
       "      <td>2019</td>\n",
       "      <td>IEEE</td>\n",
       "      <td>Saeed Alzahrani,Waleed Al-Nuaimy,Baidaa Al-Bander</td>\n",
       "      <td>3</td>\n",
       "    </tr>\n",
       "    <tr>\n",
       "      <th>96</th>\n",
       "      <td>Melanoma Classification Using Texture and Wave...</td>\n",
       "      <td>2019</td>\n",
       "      <td>IEEE</td>\n",
       "      <td>Akhiyar Waladi,Nanda Maulina Firdaus,Aniati Mu...</td>\n",
       "      <td>0</td>\n",
       "    </tr>\n",
       "    <tr>\n",
       "      <th>97</th>\n",
       "      <td>Automatic Diagnosis of Melanoma Using Log-Line...</td>\n",
       "      <td>2017</td>\n",
       "      <td>IEEE</td>\n",
       "      <td>Arezoo Zakeri,Sina Soukhtesaraie</td>\n",
       "      <td>1</td>\n",
       "    </tr>\n",
       "    <tr>\n",
       "      <th>98</th>\n",
       "      <td>Segmentation and Classification of Melanoma an...</td>\n",
       "      <td>2020</td>\n",
       "      <td>IEEE</td>\n",
       "      <td>Mike van Zon,Nikolas Stathonikos,Willeke A.M. ...</td>\n",
       "      <td>3</td>\n",
       "    </tr>\n",
       "    <tr>\n",
       "      <th>99</th>\n",
       "      <td>Melanoma Skin Cancer Detection Based on ABCD Rule</td>\n",
       "      <td>2019</td>\n",
       "      <td>IEEE</td>\n",
       "      <td>Nabeel F. Lattoofi,Israa F. Al-sharuee,Mohamme...</td>\n",
       "      <td>4</td>\n",
       "    </tr>\n",
       "  </tbody>\n",
       "</table>\n",
       "<p>100 rows × 5 columns</p>\n",
       "</div>"
      ],
      "text/plain": [
       "                                                 Name  Year             Type  \\\n",
       "0   Early Melanoma Diagnosis With Sequential Dermo...  2022  Journal Article   \n",
       "1   Multi-level Attentive Skin Lesion Learning for...  2021             IEEE   \n",
       "2   Detection of Potential Skin Cancer Lentigo Mal...  2019             IEEE   \n",
       "3   H-scan imaging and quantitative measurement to...  2021             IEEE   \n",
       "4   Convolutional Neural Network Algorithm with Pa...  2018             IEEE   \n",
       "..                                                ...   ...              ...   \n",
       "95  Seven-Point Checklist with Convolutional Neura...  2019             IEEE   \n",
       "96  Melanoma Classification Using Texture and Wave...  2019             IEEE   \n",
       "97  Automatic Diagnosis of Melanoma Using Log-Line...  2017             IEEE   \n",
       "98  Segmentation and Classification of Melanoma an...  2020             IEEE   \n",
       "99  Melanoma Skin Cancer Detection Based on ABCD Rule  2019             IEEE   \n",
       "\n",
       "                                              Authors Citations  \n",
       "0   Zhen Yu,Jennifer Nguyen,Toan D. Nguyen,John Ke...         0  \n",
       "1    Xiaohong Wang,Weimin Huang,Zhongkang Lu,Su Huang         0  \n",
       "2   Herfi Fani Martiano,Tito Waluyo Purboyo,Casi S...         0  \n",
       "3   Jihye Baek,Shuyang S. Qin,Peter A. Prieto,Kevi...         0  \n",
       "4                      Abdulaziz Namozov,Young Im Cho         7  \n",
       "..                                                ...       ...  \n",
       "95  Saeed Alzahrani,Waleed Al-Nuaimy,Baidaa Al-Bander         3  \n",
       "96  Akhiyar Waladi,Nanda Maulina Firdaus,Aniati Mu...         0  \n",
       "97                   Arezoo Zakeri,Sina Soukhtesaraie         1  \n",
       "98  Mike van Zon,Nikolas Stathonikos,Willeke A.M. ...         3  \n",
       "99  Nabeel F. Lattoofi,Israa F. Al-sharuee,Mohamme...         4  \n",
       "\n",
       "[100 rows x 5 columns]"
      ]
     },
     "execution_count": 241,
     "metadata": {},
     "output_type": "execute_result"
    }
   ],
   "source": [
    "df"
   ]
  },
  {
   "cell_type": "code",
   "execution_count": 242,
   "id": "f27b9a21",
   "metadata": {},
   "outputs": [],
   "source": [
    "df['Citations'] = df['Citations'].astype(int)"
   ]
  },
  {
   "cell_type": "code",
   "execution_count": 243,
   "id": "f6456270",
   "metadata": {},
   "outputs": [],
   "source": [
    "df['Year'] = df['Year'].astype(int)"
   ]
  },
  {
   "cell_type": "code",
   "execution_count": 245,
   "id": "a8954a22",
   "metadata": {},
   "outputs": [],
   "source": [
    "df.to_excel('data.xlsx', index=False)"
   ]
  },
  {
   "cell_type": "code",
   "execution_count": null,
   "id": "ff6b6345",
   "metadata": {},
   "outputs": [],
   "source": []
  }
 ],
 "metadata": {
  "kernelspec": {
   "display_name": "Python 3",
   "language": "python",
   "name": "python3"
  },
  "language_info": {
   "codemirror_mode": {
    "name": "ipython",
    "version": 3
   },
   "file_extension": ".py",
   "mimetype": "text/x-python",
   "name": "python",
   "nbconvert_exporter": "python",
   "pygments_lexer": "ipython3",
   "version": "3.8.8"
  }
 },
 "nbformat": 4,
 "nbformat_minor": 5
}
